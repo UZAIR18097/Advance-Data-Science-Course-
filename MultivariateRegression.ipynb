{
  "nbformat": 4,
  "nbformat_minor": 0,
  "metadata": {
    "colab": {
      "name": "MultivariateRegression.ipynb",
      "provenance": [],
      "collapsed_sections": []
    },
    "kernelspec": {
      "name": "python3",
      "display_name": "Python 3"
    }
  },
  "cells": [
    {
      "cell_type": "code",
      "metadata": {
        "id": "W66JqXmPDHFK",
        "colab_type": "code",
        "colab": {}
      },
      "source": [
        "#importing packages\n",
        "import pandas as pd\n",
        "import numpy as np\n",
        "import matplotlib.pyplot as plt"
      ],
      "execution_count": 0,
      "outputs": []
    },
    {
      "cell_type": "code",
      "metadata": {
        "id": "u0P5b3uSDHBW",
        "colab_type": "code",
        "colab": {
          "base_uri": "https://localhost:8080/",
          "height": 461
        },
        "outputId": "91968ed5-c012-4251-f921-3301e1d70dcc"
      },
      "source": [
        "Stock_Market = {'Year': [2017,2017,2017,2017,2017,2017,2017,2017,2017,2017,2017,2017,2016,2016,2016,2016,2016,2016,2016,2016,2016,2016,2016,2016],\n",
        "                'Month': [12, 11,10,9,8,7,6,5,4,3,2,1,12,11,10,9,8,7,6,5,4,3,2,1],\n",
        "                'Interest_Rate': [2.75,2.5,2.5,2.5,2.5,2.5,2.5,2.25,2.25,2.25,2,2,2,1.75,1.75,1.75,1.75,1.75,1.75,1.75,1.75,1.75,1.75,1.75],\n",
        "                'Unemployment_Rate': [5.3,5.3,5.3,5.3,5.4,5.6,5.5,5.5,5.5,5.6,5.7,5.9,6,5.9,5.8,6.1,6.2,6.1,6.1,6.1,5.9,6.2,6.2,6.1],\n",
        "                'Stock_Index_Price': [1464,1394,1357,1293,1256,1254,1234,1195,1159,1167,1130,1075,1047,965,943,958,971,949,884,866,876,822,704,719]\n",
        "                }\n",
        "\n",
        "#Storing data in df\n",
        "df = pd.DataFrame(Stock_Market,columns=['Year','Month','Interest_Rate','Unemployment_Rate','Stock_Index_Price'])\n",
        "print(df)"
      ],
      "execution_count": 63,
      "outputs": [
        {
          "output_type": "stream",
          "text": [
            "    Year  Month  Interest_Rate  Unemployment_Rate  Stock_Index_Price\n",
            "0   2017     12           2.75                5.3               1464\n",
            "1   2017     11           2.50                5.3               1394\n",
            "2   2017     10           2.50                5.3               1357\n",
            "3   2017      9           2.50                5.3               1293\n",
            "4   2017      8           2.50                5.4               1256\n",
            "5   2017      7           2.50                5.6               1254\n",
            "6   2017      6           2.50                5.5               1234\n",
            "7   2017      5           2.25                5.5               1195\n",
            "8   2017      4           2.25                5.5               1159\n",
            "9   2017      3           2.25                5.6               1167\n",
            "10  2017      2           2.00                5.7               1130\n",
            "11  2017      1           2.00                5.9               1075\n",
            "12  2016     12           2.00                6.0               1047\n",
            "13  2016     11           1.75                5.9                965\n",
            "14  2016     10           1.75                5.8                943\n",
            "15  2016      9           1.75                6.1                958\n",
            "16  2016      8           1.75                6.2                971\n",
            "17  2016      7           1.75                6.1                949\n",
            "18  2016      6           1.75                6.1                884\n",
            "19  2016      5           1.75                6.1                866\n",
            "20  2016      4           1.75                5.9                876\n",
            "21  2016      3           1.75                6.2                822\n",
            "22  2016      2           1.75                6.2                704\n",
            "23  2016      1           1.75                6.1                719\n"
          ],
          "name": "stdout"
        }
      ]
    },
    {
      "cell_type": "code",
      "metadata": {
        "id": "7v82YFgCDGoi",
        "colab_type": "code",
        "colab": {}
      },
      "source": [
        "#Predictor variable\n",
        "y = df.Stock_Index_Price\n",
        "y = np.array([y])\n",
        "\n",
        "#Data stored in X\n",
        "X = df[['Interest_Rate','Unemployment_Rate']]\n",
        "X = np.array(X)\n",
        "X=X.T\n",
        "\n",
        "[n,m] = X.shape\n",
        "X = np.insert(X,0,np.ones(m),axis = 0) #inserting a ones row vector for place for theta_0\n",
        "\n",
        "#Intializing Vector of all thetas\n",
        "theta = np.ones([n+1,1]) #appending one dimension because of one crow of ones"
      ],
      "execution_count": 0,
      "outputs": []
    },
    {
      "cell_type": "code",
      "metadata": {
        "id": "mHqrJcUfjM6s",
        "colab_type": "code",
        "colab": {}
      },
      "source": [
        "#intializing random parameters\n",
        "iters = 2000\n",
        "alpha  = 0.001\n",
        "J = np.zeros([1,iters])\n",
        "\n",
        "#looping for iterations\n",
        "for i in range(iters):\n",
        "  h_x = np.dot(theta.T,X) #model predictions\n",
        "  tmp_1 =(h_x - y)*X #storing the error\n",
        "  tmp = theta - (alpha/m)*(np.sum(tmp_1,axis =1,keepdims = True)) #summing up along the row\n",
        "  theta = tmp\n",
        "   \n",
        "  #defining cost function for regression \n",
        "  J[0,i] = np.sum((np.dot(theta.T,X) - y)**2)*(1/2*m)"
      ],
      "execution_count": 0,
      "outputs": []
    },
    {
      "cell_type": "code",
      "metadata": {
        "id": "dD-1XCH0Dkgc",
        "colab_type": "code",
        "colab": {
          "base_uri": "https://localhost:8080/",
          "height": 396
        },
        "outputId": "04bf222b-f0f9-45d6-d877-840cc0f06208"
      },
      "source": [
        "#printing results\n",
        "print(\"iterations\", i, \"\\nloss\", J[0,i], \"\\ntheta_0 =\",theta[0,0],\"\\ntheta_1\",theta[1,0],\"\\ntheta_2\",theta[2,0])\n",
        "plt.plot(J.T)\n",
        "plt.xlabel(\"Number of Iterations\")\n",
        "plt.ylabel(\"Cost\")"
      ],
      "execution_count": 66,
      "outputs": [
        {
          "output_type": "stream",
          "text": [
            "iterations 1999 \n",
            "loss 8527150.591744479 \n",
            "theta_0 = 39.73566972896286 \n",
            "theta_1 207.5543500182409 \n",
            "theta_2 103.07711819509188\n"
          ],
          "name": "stdout"
        },
        {
          "output_type": "execute_result",
          "data": {
            "text/plain": [
              "Text(0, 0.5, 'Cost')"
            ]
          },
          "metadata": {
            "tags": []
          },
          "execution_count": 66
        },
        {
          "output_type": "display_data",
          "data": {
            "image/png": "[encoded data removed]",
            "text/plain": [
              "<Figure size 432x288 with 1 Axes>"
            ]
          },
          "metadata": {
            "tags": [],
            "needs_background": "light"
          }
        }
      ]
    },
    {
      "cell_type": "code",
      "metadata": {
        "id": "4Vqh_B-Qvek2",
        "colab_type": "code",
        "colab": {
          "base_uri": "https://localhost:8080/",
          "height": 52
        },
        "outputId": "63caa597-033b-42ae-e1dd-c9875f34ce85"
      },
      "source": [
        "print(\"The values of theta learned by model are:\\n {} \".format(theta.flatten()))"
      ],
      "execution_count": 67,
      "outputs": [
        {
          "output_type": "stream",
          "text": [
            "The values of theta learned by model are:\n",
            " [ 39.73566973 207.55435002 103.0771182 ] \n"
          ],
          "name": "stdout"
        }
      ]
    },
    {
      "cell_type": "markdown",
      "metadata": {
        "id": "Nnktt5pAjm7Y",
        "colab_type": "text"
      },
      "source": [
        "Imagine that you want to predict the stock index price after you collected the following data:\n",
        "\n",
        "Interest Rate = 2.75 (i.e., X1= 2.75)\n",
        "Unemployment Rate = 5.3 (i.e., X2= 5.3)"
      ]
    },
    {
      "cell_type": "code",
      "metadata": {
        "id": "tgVdixUujoPG",
        "colab_type": "code",
        "colab": {
          "base_uri": "https://localhost:8080/",
          "height": 34
        },
        "outputId": "b70b3d25-4e85-40b9-b9f4-5b3939d8327b"
      },
      "source": [
        "x_test=np.array([[1], [2.75],[5.3]])\n",
        "y_test=np.dot(theta.T,x_test)\n",
        "print(\"Prediction for test value is {}\".format(y_test.flatten()))"
      ],
      "execution_count": 68,
      "outputs": [
        {
          "output_type": "stream",
          "text": [
            "Prediction for test value is [1156.81885871]\n"
          ],
          "name": "stdout"
        }
      ]
    }
  ]
}