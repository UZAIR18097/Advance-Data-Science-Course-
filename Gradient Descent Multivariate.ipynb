{
  "nbformat": 4,
  "nbformat_minor": 0,
  "metadata": {
    "colab": {
      "name": "Assignment1_pseudocode.ipynb",
      "provenance": [],
      "collapsed_sections": []
    },
    "kernelspec": {
      "name": "python3",
      "display_name": "Python 3"
    }
  },
  "cells": [
    {
      "cell_type": "markdown",
      "metadata": {
        "id": "F2RpXyd0daFG",
        "colab_type": "text"
      },
      "source": [
        "In this assignment you will use gradient descent minimization algorithm to minimize a function:\n",
        "\n",
        " ![image.png](data:image/png;base64,iVBORw0KGgoAAAANSUhEUgAAALIAAAAbCAYAAADYmdVOAAAGQ0lEQVR4Ae1bv0v7QBQP/gdfcHITHMShiyA61lGETm6ZO2rXgovd3OwgZrKTUyddHKQgTiJ0iYNLhy5dimQIQpWI9+Xu8pLL5V1+9ycplNy9e/d+fnJ5eVWNlJ8yAisQAW0FfChdiInAZDKJ4ViuZcyfEsjLlcPE1vbbVaJpGmkY98R8uWNjTWsk3r9ojKI/tjV2/fHh648WzfLSnlwRoImvtHqejNdLDmyPsGQDADKYLftTAhkis+LXTk1jp9iquCn7kxvIf39/ZGdnh2xubi5tjP79+7dSSQ4lwnpl/r1YoZWlJdCySdNqnv1KIBudDukIX2+HNKACT05OJKo/NZq6V89oWtVfKHhkD/u59AyHQ7b/6empYMuyiwv6pExVrAKe9Oz7YxUkZAj6kx0LBvJ0ifQOAjBGDH1/f2eJR5Zc0sgFlu6xMHlVw5sXNQA7QZ48B3qSK91LQT3vT7vKS4HeiHccxr0Wi6edyrAJ29N6zOuPQ8x+P5VmmVnOiTyX+VVz1b4IINsuECuoTCpwbW0NXaNETKFc1yg3p1gYPTZ5snojb1cePc/Pz0yeJ2wOA8wnQng+2v3kUJZz8GGa2byZ8Kddcs1BNZg/WXI0dHPtSXf8WkkJZKvfZglt3IfvZloX0yDRK/qxeU2m6d3AchbjAwLkyZT0UN92d3dlbTObywDkijmQa+1kJyOAB2TBNRMY8wC5oBzF+aMEckfnjzYT6aWfnZ1FnlotVohrZCClXnfpEjnzdFp6IOmZDcu1EUoyqec7MVnM6105qriyuhtr8AWuOHcMNQeQi8pRnD9KIEc5TteOj48V3vOXJqz5HiVTISySrJKnokcKExb39/cjb1SfFcovftODXtW1muA0bcIh4Pha6Mg0+Evz3QA5WYKsxc9yABliIRulost8SeeZgXx1dYXqUD0CwHCtwJc9T2aRpw8h5Pz8PCGQ+ctUnB2wrnfia1TgVV0zlQZoplIQbV4j+xVp8r0qP4CeXFI0Z2YgPzw8oJJV5cNjs8LA8TiSjhpUSgKi+6ittl5CzDxI+EtqiBkh3N7eJgQysjkPaYo+JTULWlsAtLhrpNwZ+oMD2flgidRqeKuMOtftBl/kwCFwHOZwVdFhPe3V7hvMxnY/eE7YJqdXL1/TivT4b25u5gLkafrkORczeLysE13Xg1+3FViT6brfWsXEztIfFMjDe97SunzBOsi8tXZ9fY3Zzm8ALSw2CshGw/+FBhWKEAfdBtMld6MabpkhWj6xRuSyyfmpHW5rFpHKSRcXFwmBXGxpkcYnMN4ZmyR/nxikKa4ZS4s0/qTNkWxpGHGEkKoLBlURQMFwcHAgy2JzDLDOgP/1Vc0QW0cOqQm1LSosgtg3agxsYs2I6+E3ngEn97jH9sknuahqa2srIZAd0mg2SavVSvQ1euFWpqgX84muYzH96HU8epQvovzM44wve5g/ReVI9gUFMhY4cePe3p4y0dhejEZr6Uq9TZwPnhBRPoyh5QJz8QolhAhkTA/d89IL1tGUL6ofq5Ij6p/GGPMJno6tnvCMcWtPagO1dVGBjPmjim3aHMnxDwHZGXRZcOJqTGqQZQXrUyrceuU/pDTvXoltQSsupMazA5z1CMKg4p7YIliFZe9EEvX4v++JnP4Y7FPJpJzUt6OjI3/TDEeQaGvily1RPlH+RQUyxJLaWHSO5JSEEJa0u0CN297eluWx+bjPbwbKU291UB4gRgFZ1QGBvaIeTUvSpeA3VsdUw/jn54cBGXTM40rjxr8VYsYU9JRvkYE8jRxhOQkBGYKIMYu0z89PFuzf31+RnHqsBLLbOYkCXTplFrM36sXo+/ub8Xx9faUTPUfumQB5Zv7F50hligRk/3Gm2iDS397eWOJtW33CifzYWAXkpDcUJhOjUXnN++ifdynPxsYGtn1haasE5CQ5UiWCARnqRiqoordVvEr66ekpOTw8VK5HLXzc1dnNEMWTd436pWl1MhgM2JfV3kKPvFKpkPX19bxq5rKf+lYz4n8xnItxKZTG5ShOlHciY/+ZGrc5zzqcxNwBqAk9c/KIDu51BuxGkfVEdS2CAhZzJvtD51OvlacVigJyNAXkTMvbUm4ZAXUESiCrY1OuLFEESiAvUbJKU9UR+A+dTOEtj4ZFlAAAAABJRU5ErkJggg==)\n",
        " Now you need to compute the gradient terms.  Since there are two variables so you will have two gradient terms each for one variable.  Take partial derivative of J wrt \\theta_1 (taking all others as constants) and this will be the gradient term for \\theta_1.  Similarly you can do it for \\theta_2.\n",
        "\n",
        " Initialize your code with \\theta_1=\\theta_2= 0.75, take learning rate=0.2 \n",
        " "
      ]
    },
    {
      "cell_type": "code",
      "metadata": {
        "id": "ucVTjk0Yff0q",
        "colab_type": "code",
        "outputId": "5f6dca21-cb64-4d23-deec-72b19efcb441",
        "colab": {
          "base_uri": "https://localhost:8080/",
          "height": 187
        }
      },
      "source": [
        "import matplotlib.pyplot as plt #This is a package in python for plotting\n",
        "import numpy as np ## This is a package to perform mathematical operations in Python\n",
        "\n",
        "iters=10 #put number of iterations here#\n",
        "theta_1=  #initialize \\theta_1\n",
        "theta_2=  #initialize \\theta_2\n",
        "alpha=    #put learning rate here#\n",
        "\n",
        "J=np.zeros([1,iters])## we initialize a zero vector here and will store values of our function progressively as we move downhill \n",
        "for i in range (iters): ## start of for loop here\n",
        "  tmp_1=                ## update rule for \\theta_1 stored in a temporrayr variable\n",
        "  tmp_2=                ## update rule for \\theta_2 stored in a temporary variable\n",
        "  theta_1=tmp_1 ##new values of \\theta_1\n",
        "  theta_2=tmp_2 ##new values of \\theta_1\n",
        "  J[0,i]=theta_1**2+theta_2**2 ## We need to see that with every update we are actually moving to the minima of the function\n",
        "  print(\"Iterations\",i,\"theta_1=\",theta_1,\"theta_2=\",theta_2,\"J=\",J[0,i])\n",
        "  \n"
      ],
      "execution_count": 0,
      "outputs": [
        {
          "output_type": "stream",
          "text": [
            "Iterations 0 theta_1= 0.44999999999999996 theta_2= 0.44999999999999996 J= 0.4049999999999999\n",
            "Iterations 1 theta_1= 0.26999999999999996 theta_2= 0.26999999999999996 J= 0.14579999999999996\n",
            "Iterations 2 theta_1= 0.16199999999999998 theta_2= 0.16199999999999998 J= 0.052487999999999986\n",
            "Iterations 3 theta_1= 0.09719999999999998 theta_2= 0.09719999999999998 J= 0.01889567999999999\n",
            "Iterations 4 theta_1= 0.05831999999999998 theta_2= 0.05831999999999998 J= 0.006802444799999996\n",
            "Iterations 5 theta_1= 0.03499199999999999 theta_2= 0.03499199999999999 J= 0.0024488801279999983\n",
            "Iterations 6 theta_1= 0.02099519999999999 theta_2= 0.02099519999999999 J= 0.0008815968460799993\n",
            "Iterations 7 theta_1= 0.012597119999999995 theta_2= 0.012597119999999995 J= 0.00031737486458879974\n",
            "Iterations 8 theta_1= 0.007558271999999996 theta_2= 0.007558271999999996 J= 0.00011425495125196788\n",
            "Iterations 9 theta_1= 0.004534963199999997 theta_2= 0.004534963199999997 J= 4.113178245070842e-05\n"
          ],
          "name": "stdout"
        }
      ]
    },
    {
      "cell_type": "code",
      "metadata": {
        "id": "Pyjx1wo-QhPN",
        "colab_type": "code",
        "colab": {}
      },
      "source": [
        "print(\"theta_1=\", theta_1, \"theta_2\", theta_2)"
      ],
      "execution_count": 0,
      "outputs": []
    },
    {
      "cell_type": "markdown",
      "metadata": {
        "id": "WJOv5vVAQlo2",
        "colab_type": "text"
      },
      "source": [
        "Expected output: theta_1= 0.004534963199999997 theta_2 0.004534963199999997"
      ]
    },
    {
      "cell_type": "code",
      "metadata": {
        "id": "cPtGRt2l7DnA",
        "colab_type": "code",
        "outputId": "9ce5f771-b7c0-4974-daa6-6437680be682",
        "colab": {
          "base_uri": "https://localhost:8080/",
          "height": 214
        }
      },
      "source": [
        "plt.plot(J.T)\n",
        "plt.xlabel('Iterations')\n",
        "plt.ylabel('Cost Function (J)')\n",
        "plt.show()\n"
      ],
      "execution_count": 0,
      "outputs": [
        {
          "output_type": "error",
          "ename": "NameError",
          "evalue": "ignored",
          "traceback": [
            "\u001b[0;31m---------------------------------------------------------------------------\u001b[0m",
            "\u001b[0;31mNameError\u001b[0m                                 Traceback (most recent call last)",
            "\u001b[0;32m<ipython-input-1-65f44073eedb>\u001b[0m in \u001b[0;36m<module>\u001b[0;34m()\u001b[0m\n\u001b[0;32m----> 1\u001b[0;31m \u001b[0mplt\u001b[0m\u001b[0;34m.\u001b[0m\u001b[0mplot\u001b[0m\u001b[0;34m(\u001b[0m\u001b[0mJ\u001b[0m\u001b[0;34m.\u001b[0m\u001b[0mT\u001b[0m\u001b[0;34m)\u001b[0m\u001b[0;34m\u001b[0m\u001b[0;34m\u001b[0m\u001b[0m\n\u001b[0m\u001b[1;32m      2\u001b[0m \u001b[0mplt\u001b[0m\u001b[0;34m.\u001b[0m\u001b[0mxlabel\u001b[0m\u001b[0;34m(\u001b[0m\u001b[0;34m'Iterations'\u001b[0m\u001b[0;34m)\u001b[0m\u001b[0;34m\u001b[0m\u001b[0;34m\u001b[0m\u001b[0m\n\u001b[1;32m      3\u001b[0m \u001b[0mplt\u001b[0m\u001b[0;34m.\u001b[0m\u001b[0mylabel\u001b[0m\u001b[0;34m(\u001b[0m\u001b[0;34m'Cost Function (J)'\u001b[0m\u001b[0;34m)\u001b[0m\u001b[0;34m\u001b[0m\u001b[0;34m\u001b[0m\u001b[0m\n\u001b[1;32m      4\u001b[0m \u001b[0mplt\u001b[0m\u001b[0;34m.\u001b[0m\u001b[0mshow\u001b[0m\u001b[0;34m(\u001b[0m\u001b[0;34m)\u001b[0m\u001b[0;34m\u001b[0m\u001b[0;34m\u001b[0m\u001b[0m\n",
            "\u001b[0;31mNameError\u001b[0m: name 'plt' is not defined"
          ]
        }
      ]
    }
  ]
}